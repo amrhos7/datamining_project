{
 "cells": [
  {
   "cell_type": "markdown",
   "metadata": {},
   "source": [
    "## Importing Libraries"
   ]
  },
  {
   "cell_type": "code",
   "execution_count": 1,
   "metadata": {
    "ExecuteTime": {
     "end_time": "2021-04-18T22:04:19.904295Z",
     "start_time": "2021-04-18T22:04:14.900009Z"
    }
   },
   "outputs": [],
   "source": [
    "import numpy as np\n",
    "import matplotlib.pyplot as plt\n",
    "import pandas as pd\n",
    "import seaborn as sn\n",
    "from sklearn.model_selection import train_test_split\n",
    "from sklearn.model_selection import KFold\n",
    "from sklearn.preprocessing import MinMaxScaler\n",
    "from sklearn import metrics\n",
    "from sklearn.metrics import accuracy_score as acc\n",
    "from sklearn.metrics import classification_report\n",
    "from sklearn.svm import SVC\n",
    "import warnings\n",
    "warnings.filterwarnings('ignore')\n",
    "plt.close('all')\n",
    "import os\n",
    "if not os.path.exists('Results'):\n",
    "    os.makedirs('Results')"
   ]
  },
  {
   "cell_type": "markdown",
   "metadata": {},
   "source": [
    "## Importing Data-Sets"
   ]
  },
  {
   "cell_type": "code",
   "execution_count": 2,
   "metadata": {
    "ExecuteTime": {
     "end_time": "2021-04-18T22:04:19.953298Z",
     "start_time": "2021-04-18T22:04:19.909295Z"
    }
   },
   "outputs": [
    {
     "data": {
      "text/html": [
       "<div>\n",
       "<style scoped>\n",
       "    .dataframe tbody tr th:only-of-type {\n",
       "        vertical-align: middle;\n",
       "    }\n",
       "\n",
       "    .dataframe tbody tr th {\n",
       "        vertical-align: top;\n",
       "    }\n",
       "\n",
       "    .dataframe thead th {\n",
       "        text-align: right;\n",
       "    }\n",
       "</style>\n",
       "<table border=\"1\" class=\"dataframe\">\n",
       "  <thead>\n",
       "    <tr style=\"text-align: right;\">\n",
       "      <th></th>\n",
       "      <th>Age</th>\n",
       "      <th>BMI</th>\n",
       "      <th>Glucose</th>\n",
       "      <th>Insulin</th>\n",
       "      <th>HOMA</th>\n",
       "      <th>Leptin</th>\n",
       "      <th>Adiponectin</th>\n",
       "      <th>Resistin</th>\n",
       "      <th>MCP.1</th>\n",
       "      <th>Class</th>\n",
       "    </tr>\n",
       "  </thead>\n",
       "  <tbody>\n",
       "    <tr>\n",
       "      <th>0</th>\n",
       "      <td>48</td>\n",
       "      <td>23.500000</td>\n",
       "      <td>70</td>\n",
       "      <td>2.707</td>\n",
       "      <td>0.467409</td>\n",
       "      <td>8.8071</td>\n",
       "      <td>9.702400</td>\n",
       "      <td>7.99585</td>\n",
       "      <td>417.114</td>\n",
       "      <td>1</td>\n",
       "    </tr>\n",
       "    <tr>\n",
       "      <th>1</th>\n",
       "      <td>83</td>\n",
       "      <td>20.690495</td>\n",
       "      <td>92</td>\n",
       "      <td>3.115</td>\n",
       "      <td>0.706897</td>\n",
       "      <td>8.8438</td>\n",
       "      <td>5.429285</td>\n",
       "      <td>4.06405</td>\n",
       "      <td>468.786</td>\n",
       "      <td>1</td>\n",
       "    </tr>\n",
       "    <tr>\n",
       "      <th>2</th>\n",
       "      <td>82</td>\n",
       "      <td>23.124670</td>\n",
       "      <td>91</td>\n",
       "      <td>4.498</td>\n",
       "      <td>1.009651</td>\n",
       "      <td>17.9393</td>\n",
       "      <td>22.432040</td>\n",
       "      <td>9.27715</td>\n",
       "      <td>554.697</td>\n",
       "      <td>1</td>\n",
       "    </tr>\n",
       "    <tr>\n",
       "      <th>3</th>\n",
       "      <td>68</td>\n",
       "      <td>21.367521</td>\n",
       "      <td>77</td>\n",
       "      <td>3.226</td>\n",
       "      <td>0.612725</td>\n",
       "      <td>9.8827</td>\n",
       "      <td>7.169560</td>\n",
       "      <td>12.76600</td>\n",
       "      <td>928.220</td>\n",
       "      <td>1</td>\n",
       "    </tr>\n",
       "    <tr>\n",
       "      <th>4</th>\n",
       "      <td>86</td>\n",
       "      <td>21.111111</td>\n",
       "      <td>92</td>\n",
       "      <td>3.549</td>\n",
       "      <td>0.805386</td>\n",
       "      <td>6.6994</td>\n",
       "      <td>4.819240</td>\n",
       "      <td>10.57635</td>\n",
       "      <td>773.920</td>\n",
       "      <td>1</td>\n",
       "    </tr>\n",
       "  </tbody>\n",
       "</table>\n",
       "</div>"
      ],
      "text/plain": [
       "   Age        BMI  Glucose  Insulin      HOMA   Leptin  Adiponectin  Resistin  \\\n",
       "0   48  23.500000       70    2.707  0.467409   8.8071     9.702400   7.99585   \n",
       "1   83  20.690495       92    3.115  0.706897   8.8438     5.429285   4.06405   \n",
       "2   82  23.124670       91    4.498  1.009651  17.9393    22.432040   9.27715   \n",
       "3   68  21.367521       77    3.226  0.612725   9.8827     7.169560  12.76600   \n",
       "4   86  21.111111       92    3.549  0.805386   6.6994     4.819240  10.57635   \n",
       "\n",
       "     MCP.1  Class  \n",
       "0  417.114      1  \n",
       "1  468.786      1  \n",
       "2  554.697      1  \n",
       "3  928.220      1  \n",
       "4  773.920      1  "
      ]
     },
     "execution_count": 2,
     "metadata": {},
     "output_type": "execute_result"
    }
   ],
   "source": [
    "# Class_Label_1 = Healthy controls\n",
    "# Class_Label_0 = Patients\n",
    "\n",
    "dataset = pd.read_csv('dataR2 - NEW.csv')\n",
    "col = dataset.shape[1]\n",
    "dataset.head()"
   ]
  },
  {
   "cell_type": "code",
   "execution_count": 3,
   "metadata": {
    "ExecuteTime": {
     "end_time": "2021-04-18T22:04:20.090305Z",
     "start_time": "2021-04-18T22:04:19.958298Z"
    }
   },
   "outputs": [
    {
     "name": "stdout",
     "output_type": "stream",
     "text": [
      "X_Size = (116, 9)\n",
      "y_Size = (116,)\n"
     ]
    },
    {
     "data": {
      "text/html": [
       "<div>\n",
       "<style scoped>\n",
       "    .dataframe tbody tr th:only-of-type {\n",
       "        vertical-align: middle;\n",
       "    }\n",
       "\n",
       "    .dataframe tbody tr th {\n",
       "        vertical-align: top;\n",
       "    }\n",
       "\n",
       "    .dataframe thead th {\n",
       "        text-align: right;\n",
       "    }\n",
       "</style>\n",
       "<table border=\"1\" class=\"dataframe\">\n",
       "  <thead>\n",
       "    <tr style=\"text-align: right;\">\n",
       "      <th></th>\n",
       "      <th>Age</th>\n",
       "      <th>BMI</th>\n",
       "      <th>Glucose</th>\n",
       "      <th>Insulin</th>\n",
       "      <th>HOMA</th>\n",
       "      <th>Leptin</th>\n",
       "      <th>Adiponectin</th>\n",
       "      <th>Resistin</th>\n",
       "      <th>MCP.1</th>\n",
       "    </tr>\n",
       "  </thead>\n",
       "  <tbody>\n",
       "    <tr>\n",
       "      <th>0</th>\n",
       "      <td>48</td>\n",
       "      <td>23.500000</td>\n",
       "      <td>70</td>\n",
       "      <td>2.707</td>\n",
       "      <td>0.467409</td>\n",
       "      <td>8.8071</td>\n",
       "      <td>9.702400</td>\n",
       "      <td>7.99585</td>\n",
       "      <td>417.114</td>\n",
       "    </tr>\n",
       "    <tr>\n",
       "      <th>1</th>\n",
       "      <td>83</td>\n",
       "      <td>20.690495</td>\n",
       "      <td>92</td>\n",
       "      <td>3.115</td>\n",
       "      <td>0.706897</td>\n",
       "      <td>8.8438</td>\n",
       "      <td>5.429285</td>\n",
       "      <td>4.06405</td>\n",
       "      <td>468.786</td>\n",
       "    </tr>\n",
       "    <tr>\n",
       "      <th>2</th>\n",
       "      <td>82</td>\n",
       "      <td>23.124670</td>\n",
       "      <td>91</td>\n",
       "      <td>4.498</td>\n",
       "      <td>1.009651</td>\n",
       "      <td>17.9393</td>\n",
       "      <td>22.432040</td>\n",
       "      <td>9.27715</td>\n",
       "      <td>554.697</td>\n",
       "    </tr>\n",
       "    <tr>\n",
       "      <th>3</th>\n",
       "      <td>68</td>\n",
       "      <td>21.367521</td>\n",
       "      <td>77</td>\n",
       "      <td>3.226</td>\n",
       "      <td>0.612725</td>\n",
       "      <td>9.8827</td>\n",
       "      <td>7.169560</td>\n",
       "      <td>12.76600</td>\n",
       "      <td>928.220</td>\n",
       "    </tr>\n",
       "    <tr>\n",
       "      <th>4</th>\n",
       "      <td>86</td>\n",
       "      <td>21.111111</td>\n",
       "      <td>92</td>\n",
       "      <td>3.549</td>\n",
       "      <td>0.805386</td>\n",
       "      <td>6.6994</td>\n",
       "      <td>4.819240</td>\n",
       "      <td>10.57635</td>\n",
       "      <td>773.920</td>\n",
       "    </tr>\n",
       "  </tbody>\n",
       "</table>\n",
       "</div>"
      ],
      "text/plain": [
       "   Age        BMI  Glucose  Insulin      HOMA   Leptin  Adiponectin  Resistin  \\\n",
       "0   48  23.500000       70    2.707  0.467409   8.8071     9.702400   7.99585   \n",
       "1   83  20.690495       92    3.115  0.706897   8.8438     5.429285   4.06405   \n",
       "2   82  23.124670       91    4.498  1.009651  17.9393    22.432040   9.27715   \n",
       "3   68  21.367521       77    3.226  0.612725   9.8827     7.169560  12.76600   \n",
       "4   86  21.111111       92    3.549  0.805386   6.6994     4.819240  10.57635   \n",
       "\n",
       "     MCP.1  \n",
       "0  417.114  \n",
       "1  468.786  \n",
       "2  554.697  \n",
       "3  928.220  \n",
       "4  773.920  "
      ]
     },
     "execution_count": 3,
     "metadata": {},
     "output_type": "execute_result"
    }
   ],
   "source": [
    "# x = np.random.permutation(range(116))\n",
    "# dataset = dataset.iloc[x,:]\n",
    "\n",
    "X = dataset.iloc[:,:col-1]\n",
    "y = dataset.iloc[:, col-1]\n",
    "\n",
    "print(f\"X_Size = {X.shape}\")\n",
    "print(f\"y_Size = {y.shape}\")\n",
    "X.head()"
   ]
  },
  {
   "cell_type": "markdown",
   "metadata": {},
   "source": [
    "## Pre-Procesing The Data-sets"
   ]
  },
  {
   "cell_type": "code",
   "execution_count": 4,
   "metadata": {
    "ExecuteTime": {
     "end_time": "2021-04-18T22:04:20.179311Z",
     "start_time": "2021-04-18T22:04:20.105306Z"
    }
   },
   "outputs": [
    {
     "data": {
      "text/plain": [
       "Age            0\n",
       "BMI            0\n",
       "Glucose        0\n",
       "Insulin        0\n",
       "HOMA           0\n",
       "Leptin         0\n",
       "Adiponectin    0\n",
       "Resistin       0\n",
       "MCP.1          0\n",
       "dtype: int64"
      ]
     },
     "execution_count": 4,
     "metadata": {},
     "output_type": "execute_result"
    }
   ],
   "source": [
    "a1 = X.isnull().sum()\n",
    "a1"
   ]
  },
  {
   "cell_type": "code",
   "execution_count": 5,
   "metadata": {
    "ExecuteTime": {
     "end_time": "2021-04-18T22:04:20.299317Z",
     "start_time": "2021-04-18T22:04:20.184311Z"
    }
   },
   "outputs": [
    {
     "data": {
      "text/plain": [
       "0"
      ]
     },
     "execution_count": 5,
     "metadata": {},
     "output_type": "execute_result"
    }
   ],
   "source": [
    "a2 = y.isnull().sum()\n",
    "a2"
   ]
  },
  {
   "cell_type": "code",
   "execution_count": 6,
   "metadata": {
    "ExecuteTime": {
     "end_time": "2021-04-18T22:04:20.442326Z",
     "start_time": "2021-04-18T22:04:20.304318Z"
    }
   },
   "outputs": [
    {
     "data": {
      "text/html": [
       "<div>\n",
       "<style scoped>\n",
       "    .dataframe tbody tr th:only-of-type {\n",
       "        vertical-align: middle;\n",
       "    }\n",
       "\n",
       "    .dataframe tbody tr th {\n",
       "        vertical-align: top;\n",
       "    }\n",
       "\n",
       "    .dataframe thead th {\n",
       "        text-align: right;\n",
       "    }\n",
       "</style>\n",
       "<table border=\"1\" class=\"dataframe\">\n",
       "  <thead>\n",
       "    <tr style=\"text-align: right;\">\n",
       "      <th></th>\n",
       "      <th>0</th>\n",
       "      <th>1</th>\n",
       "      <th>2</th>\n",
       "      <th>3</th>\n",
       "      <th>4</th>\n",
       "      <th>5</th>\n",
       "      <th>6</th>\n",
       "      <th>7</th>\n",
       "      <th>8</th>\n",
       "    </tr>\n",
       "  </thead>\n",
       "  <tbody>\n",
       "    <tr>\n",
       "      <th>0</th>\n",
       "      <td>0.369231</td>\n",
       "      <td>0.253850</td>\n",
       "      <td>0.070922</td>\n",
       "      <td>0.004908</td>\n",
       "      <td>0.000000</td>\n",
       "      <td>0.052299</td>\n",
       "      <td>0.221152</td>\n",
       "      <td>0.060665</td>\n",
       "      <td>0.224659</td>\n",
       "    </tr>\n",
       "    <tr>\n",
       "      <th>1</th>\n",
       "      <td>0.907692</td>\n",
       "      <td>0.114826</td>\n",
       "      <td>0.226950</td>\n",
       "      <td>0.012190</td>\n",
       "      <td>0.009742</td>\n",
       "      <td>0.052726</td>\n",
       "      <td>0.103707</td>\n",
       "      <td>0.010826</td>\n",
       "      <td>0.255926</td>\n",
       "    </tr>\n",
       "    <tr>\n",
       "      <th>2</th>\n",
       "      <td>0.892308</td>\n",
       "      <td>0.235278</td>\n",
       "      <td>0.219858</td>\n",
       "      <td>0.036874</td>\n",
       "      <td>0.022058</td>\n",
       "      <td>0.158526</td>\n",
       "      <td>0.571021</td>\n",
       "      <td>0.076906</td>\n",
       "      <td>0.307912</td>\n",
       "    </tr>\n",
       "    <tr>\n",
       "      <th>3</th>\n",
       "      <td>0.676923</td>\n",
       "      <td>0.148328</td>\n",
       "      <td>0.120567</td>\n",
       "      <td>0.014171</td>\n",
       "      <td>0.005911</td>\n",
       "      <td>0.064811</td>\n",
       "      <td>0.151538</td>\n",
       "      <td>0.121131</td>\n",
       "      <td>0.533934</td>\n",
       "    </tr>\n",
       "    <tr>\n",
       "      <th>4</th>\n",
       "      <td>0.953846</td>\n",
       "      <td>0.135640</td>\n",
       "      <td>0.226950</td>\n",
       "      <td>0.019936</td>\n",
       "      <td>0.013748</td>\n",
       "      <td>0.027782</td>\n",
       "      <td>0.086940</td>\n",
       "      <td>0.093375</td>\n",
       "      <td>0.440565</td>\n",
       "    </tr>\n",
       "  </tbody>\n",
       "</table>\n",
       "</div>"
      ],
      "text/plain": [
       "          0         1         2         3         4         5         6  \\\n",
       "0  0.369231  0.253850  0.070922  0.004908  0.000000  0.052299  0.221152   \n",
       "1  0.907692  0.114826  0.226950  0.012190  0.009742  0.052726  0.103707   \n",
       "2  0.892308  0.235278  0.219858  0.036874  0.022058  0.158526  0.571021   \n",
       "3  0.676923  0.148328  0.120567  0.014171  0.005911  0.064811  0.151538   \n",
       "4  0.953846  0.135640  0.226950  0.019936  0.013748  0.027782  0.086940   \n",
       "\n",
       "          7         8  \n",
       "0  0.060665  0.224659  \n",
       "1  0.010826  0.255926  \n",
       "2  0.076906  0.307912  \n",
       "3  0.121131  0.533934  \n",
       "4  0.093375  0.440565  "
      ]
     },
     "execution_count": 6,
     "metadata": {},
     "output_type": "execute_result"
    }
   ],
   "source": [
    "scaler = MinMaxScaler(feature_range=(0, 1))\n",
    "XN = scaler.fit_transform(X)\n",
    "XN = pd. DataFrame(XN)\n",
    "XN.head()"
   ]
  },
  {
   "cell_type": "code",
   "execution_count": 7,
   "metadata": {
    "ExecuteTime": {
     "end_time": "2021-04-18T22:04:20.584334Z",
     "start_time": "2021-04-18T22:04:20.446326Z"
    }
   },
   "outputs": [
    {
     "data": {
      "text/html": [
       "<div>\n",
       "<style scoped>\n",
       "    .dataframe tbody tr th:only-of-type {\n",
       "        vertical-align: middle;\n",
       "    }\n",
       "\n",
       "    .dataframe tbody tr th {\n",
       "        vertical-align: top;\n",
       "    }\n",
       "\n",
       "    .dataframe thead th {\n",
       "        text-align: right;\n",
       "    }\n",
       "</style>\n",
       "<table border=\"1\" class=\"dataframe\">\n",
       "  <thead>\n",
       "    <tr style=\"text-align: right;\">\n",
       "      <th></th>\n",
       "      <th>0</th>\n",
       "      <th>1</th>\n",
       "      <th>2</th>\n",
       "      <th>3</th>\n",
       "      <th>4</th>\n",
       "      <th>5</th>\n",
       "      <th>6</th>\n",
       "      <th>7</th>\n",
       "      <th>8</th>\n",
       "    </tr>\n",
       "  </thead>\n",
       "  <tbody>\n",
       "    <tr>\n",
       "      <th>0</th>\n",
       "      <td>0.369231</td>\n",
       "      <td>0.253850</td>\n",
       "      <td>0.070922</td>\n",
       "      <td>0.004908</td>\n",
       "      <td>0.000000</td>\n",
       "      <td>0.052299</td>\n",
       "      <td>0.221152</td>\n",
       "      <td>0.060665</td>\n",
       "      <td>0.224659</td>\n",
       "    </tr>\n",
       "    <tr>\n",
       "      <th>1</th>\n",
       "      <td>0.907692</td>\n",
       "      <td>0.114826</td>\n",
       "      <td>0.226950</td>\n",
       "      <td>0.012190</td>\n",
       "      <td>0.009742</td>\n",
       "      <td>0.052726</td>\n",
       "      <td>0.103707</td>\n",
       "      <td>0.010826</td>\n",
       "      <td>0.255926</td>\n",
       "    </tr>\n",
       "    <tr>\n",
       "      <th>2</th>\n",
       "      <td>0.892308</td>\n",
       "      <td>0.235278</td>\n",
       "      <td>0.219858</td>\n",
       "      <td>0.036874</td>\n",
       "      <td>0.022058</td>\n",
       "      <td>0.158526</td>\n",
       "      <td>0.571021</td>\n",
       "      <td>0.076906</td>\n",
       "      <td>0.307912</td>\n",
       "    </tr>\n",
       "    <tr>\n",
       "      <th>3</th>\n",
       "      <td>0.676923</td>\n",
       "      <td>0.148328</td>\n",
       "      <td>0.120567</td>\n",
       "      <td>0.014171</td>\n",
       "      <td>0.005911</td>\n",
       "      <td>0.064811</td>\n",
       "      <td>0.151538</td>\n",
       "      <td>0.121131</td>\n",
       "      <td>0.533934</td>\n",
       "    </tr>\n",
       "    <tr>\n",
       "      <th>4</th>\n",
       "      <td>0.953846</td>\n",
       "      <td>0.135640</td>\n",
       "      <td>0.226950</td>\n",
       "      <td>0.019936</td>\n",
       "      <td>0.013748</td>\n",
       "      <td>0.027782</td>\n",
       "      <td>0.086940</td>\n",
       "      <td>0.093375</td>\n",
       "      <td>0.440565</td>\n",
       "    </tr>\n",
       "  </tbody>\n",
       "</table>\n",
       "</div>"
      ],
      "text/plain": [
       "          0         1         2         3         4         5         6  \\\n",
       "0  0.369231  0.253850  0.070922  0.004908  0.000000  0.052299  0.221152   \n",
       "1  0.907692  0.114826  0.226950  0.012190  0.009742  0.052726  0.103707   \n",
       "2  0.892308  0.235278  0.219858  0.036874  0.022058  0.158526  0.571021   \n",
       "3  0.676923  0.148328  0.120567  0.014171  0.005911  0.064811  0.151538   \n",
       "4  0.953846  0.135640  0.226950  0.019936  0.013748  0.027782  0.086940   \n",
       "\n",
       "          7         8  \n",
       "0  0.060665  0.224659  \n",
       "1  0.010826  0.255926  \n",
       "2  0.076906  0.307912  \n",
       "3  0.121131  0.533934  \n",
       "4  0.093375  0.440565  "
      ]
     },
     "execution_count": 7,
     "metadata": {},
     "output_type": "execute_result"
    }
   ],
   "source": [
    "# w = int(input('Do you want to use Normalized Input? 1=Yes, 0=No '))\n",
    "\n",
    "w = 1\n",
    "\n",
    "if w==1:\n",
    "    inputs=XN.copy()\n",
    "else:\n",
    "    inputs=X.copy()\n",
    "    \n",
    "inputs.head()"
   ]
  },
  {
   "cell_type": "markdown",
   "metadata": {},
   "source": [
    "## Select Train & Test Data-sets"
   ]
  },
  {
   "cell_type": "code",
   "execution_count": 8,
   "metadata": {
    "ExecuteTime": {
     "end_time": "2021-04-18T22:04:20.720341Z",
     "start_time": "2021-04-18T22:04:20.590334Z"
    }
   },
   "outputs": [],
   "source": [
    "xtrain, xtest, ytrain, ytest = train_test_split(inputs, y, test_size=0.2, shuffle=True, random_state=None)"
   ]
  },
  {
   "cell_type": "code",
   "execution_count": 9,
   "metadata": {
    "ExecuteTime": {
     "end_time": "2021-04-18T22:04:20.833348Z",
     "start_time": "2021-04-18T22:04:20.726342Z"
    }
   },
   "outputs": [
    {
     "data": {
      "text/plain": [
       "(92, 9)"
      ]
     },
     "execution_count": 9,
     "metadata": {},
     "output_type": "execute_result"
    }
   ],
   "source": [
    "xtrain.shape"
   ]
  },
  {
   "cell_type": "code",
   "execution_count": 10,
   "metadata": {
    "ExecuteTime": {
     "end_time": "2021-04-18T22:04:20.953355Z",
     "start_time": "2021-04-18T22:04:20.838348Z"
    }
   },
   "outputs": [
    {
     "data": {
      "text/plain": [
       "(24, 9)"
      ]
     },
     "execution_count": 10,
     "metadata": {},
     "output_type": "execute_result"
    }
   ],
   "source": [
    "xtest.shape"
   ]
  },
  {
   "cell_type": "code",
   "execution_count": 11,
   "metadata": {
    "ExecuteTime": {
     "end_time": "2021-04-18T22:04:21.097363Z",
     "start_time": "2021-04-18T22:04:20.958355Z"
    }
   },
   "outputs": [
    {
     "data": {
      "text/plain": [
       "(92,)"
      ]
     },
     "execution_count": 11,
     "metadata": {},
     "output_type": "execute_result"
    }
   ],
   "source": [
    "ytrain.shape"
   ]
  },
  {
   "cell_type": "code",
   "execution_count": 12,
   "metadata": {
    "ExecuteTime": {
     "end_time": "2021-04-18T22:04:21.209369Z",
     "start_time": "2021-04-18T22:04:21.102363Z"
    }
   },
   "outputs": [
    {
     "data": {
      "text/plain": [
       "(24,)"
      ]
     },
     "execution_count": 12,
     "metadata": {},
     "output_type": "execute_result"
    }
   ],
   "source": [
    "ytest.shape"
   ]
  },
  {
   "cell_type": "markdown",
   "metadata": {},
   "source": [
    "## KFold Cross Validation"
   ]
  },
  {
   "cell_type": "code",
   "execution_count": 13,
   "metadata": {
    "ExecuteTime": {
     "end_time": "2021-04-18T22:04:21.459384Z",
     "start_time": "2021-04-18T22:04:21.213370Z"
    }
   },
   "outputs": [],
   "source": [
    "kf = KFold(n_splits=4, random_state=None, shuffle=True)"
   ]
  },
  {
   "cell_type": "markdown",
   "metadata": {},
   "source": [
    "## Create and Train SVM Classifier"
   ]
  },
  {
   "cell_type": "code",
   "execution_count": 14,
   "metadata": {
    "ExecuteTime": {
     "end_time": "2021-04-18T22:04:21.582391Z",
     "start_time": "2021-04-18T22:04:21.464384Z"
    }
   },
   "outputs": [],
   "source": [
    "clf = SVC(\n",
    "          C=100,\n",
    "          kernel='rbf',\n",
    "          gamma='auto',\n",
    "          probability=True\n",
    "          )"
   ]
  },
  {
   "cell_type": "code",
   "execution_count": 15,
   "metadata": {
    "ExecuteTime": {
     "end_time": "2021-04-18T22:04:21.844406Z",
     "start_time": "2021-04-18T22:04:21.595392Z"
    }
   },
   "outputs": [],
   "source": [
    "ACC_TR = []\n",
    "ACC_TS = []\n",
    "SVM = []\n",
    "\n",
    "for train_index, test_index in kf.split(xtrain):\n",
    "    i = 0\n",
    "    \n",
    "    X_tr, X_ts = xtrain.iloc[train_index,:], xtrain.iloc[test_index,:]\n",
    "    y_tr, y_ts = ytrain.iloc[train_index], ytrain.iloc[test_index]\n",
    "    \n",
    "    clf.fit(X_tr, y_tr)\n",
    "    \n",
    "    y_tr_prd = clf.predict(X_tr)\n",
    "    acc_Train = acc(y_tr, y_tr_prd)\n",
    "    \n",
    "    y_ts_prd = clf.predict(X_ts)\n",
    "    acc_Test = acc(y_ts, y_ts_prd)\n",
    "    \n",
    "    i += 1\n",
    "    \n",
    "    ACC_TR.append(acc_Train)\n",
    "    ACC_TS.append(acc_Test)\n",
    "    SVM.append(clf)"
   ]
  },
  {
   "cell_type": "code",
   "execution_count": 16,
   "metadata": {
    "ExecuteTime": {
     "end_time": "2021-04-18T22:04:21.867407Z",
     "start_time": "2021-04-18T22:04:21.854406Z"
    }
   },
   "outputs": [
    {
     "data": {
      "text/plain": [
       "1"
      ]
     },
     "execution_count": 16,
     "metadata": {},
     "output_type": "execute_result"
    }
   ],
   "source": [
    "Idx = ACC_TS.index(np.max(ACC_TS))\n",
    "Idx"
   ]
  },
  {
   "cell_type": "code",
   "execution_count": 17,
   "metadata": {
    "ExecuteTime": {
     "end_time": "2021-04-18T22:04:21.978413Z",
     "start_time": "2021-04-18T22:04:21.874408Z"
    }
   },
   "outputs": [
    {
     "data": {
      "text/plain": [
       "SVC(C=100, cache_size=200, class_weight=None, coef0=0.0,\n",
       "    decision_function_shape='ovr', degree=3, gamma='auto', kernel='rbf',\n",
       "    max_iter=-1, probability=True, random_state=None, shrinking=True, tol=0.001,\n",
       "    verbose=False)"
      ]
     },
     "execution_count": 17,
     "metadata": {},
     "output_type": "execute_result"
    }
   ],
   "source": [
    "SVM_Classifier = SVM[Idx]\n",
    "SVM_Classifier"
   ]
  },
  {
   "cell_type": "code",
   "execution_count": 18,
   "metadata": {
    "ExecuteTime": {
     "end_time": "2021-04-18T22:04:22.121422Z",
     "start_time": "2021-04-18T22:04:21.983414Z"
    }
   },
   "outputs": [
    {
     "data": {
      "text/plain": [
       "[0.8840579710144928,\n",
       " 0.7971014492753623,\n",
       " 0.8260869565217391,\n",
       " 0.8695652173913043]"
      ]
     },
     "execution_count": 18,
     "metadata": {},
     "output_type": "execute_result"
    }
   ],
   "source": [
    "ACC_TR"
   ]
  },
  {
   "cell_type": "code",
   "execution_count": 19,
   "metadata": {
    "ExecuteTime": {
     "end_time": "2021-04-18T22:04:22.266430Z",
     "start_time": "2021-04-18T22:04:22.125422Z"
    }
   },
   "outputs": [
    {
     "data": {
      "text/plain": [
       "[0.7391304347826086, 0.782608695652174, 0.7391304347826086, 0.782608695652174]"
      ]
     },
     "execution_count": 19,
     "metadata": {},
     "output_type": "execute_result"
    }
   ],
   "source": [
    "ACC_TS"
   ]
  },
  {
   "cell_type": "markdown",
   "metadata": {},
   "source": [
    "## Train Results"
   ]
  },
  {
   "cell_type": "code",
   "execution_count": 20,
   "metadata": {
    "ExecuteTime": {
     "end_time": "2021-04-18T22:04:22.409438Z",
     "start_time": "2021-04-18T22:04:22.271430Z"
    }
   },
   "outputs": [],
   "source": [
    "ytrain_prd = SVM_Classifier.predict(xtrain)"
   ]
  },
  {
   "cell_type": "code",
   "execution_count": 21,
   "metadata": {
    "ExecuteTime": {
     "end_time": "2021-04-18T22:04:22.544446Z",
     "start_time": "2021-04-18T22:04:22.414438Z"
    }
   },
   "outputs": [
    {
     "data": {
      "text/plain": [
       "0.85"
      ]
     },
     "execution_count": 21,
     "metadata": {},
     "output_type": "execute_result"
    }
   ],
   "source": [
    "Acc_TR = np.round(acc(ytrain, ytrain_prd),2)\n",
    "Acc_TR"
   ]
  },
  {
   "cell_type": "code",
   "execution_count": 22,
   "metadata": {
    "ExecuteTime": {
     "end_time": "2021-04-18T22:04:22.890466Z",
     "start_time": "2021-04-18T22:04:22.548446Z"
    }
   },
   "outputs": [],
   "source": [
    "CM_TR = metrics.confusion_matrix(ytrain, ytrain_prd)"
   ]
  },
  {
   "cell_type": "code",
   "execution_count": 23,
   "metadata": {
    "ExecuteTime": {
     "end_time": "2021-04-18T22:04:24.096535Z",
     "start_time": "2021-04-18T22:04:22.904466Z"
    }
   },
   "outputs": [
    {
     "data": {
      "image/png": "[encoded data removed]",
      "text/plain": [
       "<Figure size 432x288 with 2 Axes>"
      ]
     },
     "metadata": {
      "needs_background": "light"
     },
     "output_type": "display_data"
    }
   ],
   "source": [
    "dfCM_TR = pd.DataFrame (CM_TR, index=['Patient', 'Healthy'], columns=['Patient', 'Healthy'])\n",
    "sn.heatmap(dfCM_TR, annot=True, cmap='Greens', fmt='g')\n",
    "plt.title(\"Train Confusion Matrix\", fontsize=16)\n",
    "plt.xlabel('Predicted', fontsize=16)\n",
    "plt.ylabel('Actual', fontsize=16)\n",
    "plt.savefig('Results\\Train_Confusion_Matrix',dpi=300)\n",
    "plt.show()"
   ]
  },
  {
   "cell_type": "code",
   "execution_count": 24,
   "metadata": {
    "ExecuteTime": {
     "end_time": "2021-04-18T22:04:24.225542Z",
     "start_time": "2021-04-18T22:04:24.103535Z"
    }
   },
   "outputs": [
    {
     "name": "stdout",
     "output_type": "stream",
     "text": [
      "\n",
      "************************* Train Results *************************\n",
      "Acc_TR         = 0.85\n",
      "Sensitivity_TR = 0.82\n",
      "Specificity_TR = 0.88\n",
      "RMSE_TR        = 0.39\n",
      "AUC_TR         = 0.85\n",
      "f1_score_TR    = 0.85\n"
     ]
    }
   ],
   "source": [
    "######################## Train Results ########################\n",
    "print(\"\\n\"+\"*\"*25+\" Train Results \"+\"*\"*25)\n",
    "\n",
    "print(f\"Acc_TR         = {Acc_TR}\")\n",
    "\n",
    "Sensitivity_TR = np.round(CM_TR[0,0]/np.sum(CM_TR[0,:]),2)\n",
    "Specificity_TR = np.round(CM_TR[1,1]/np.sum(CM_TR[1,:]),2)\n",
    "RMSE_TR = np.round(np.sqrt(metrics.mean_squared_error(ytrain, ytrain_prd)),2)\n",
    "fpr, tpr, thresholds = metrics.roc_curve(ytrain, ytrain_prd, pos_label=1)\n",
    "AUC_TR = np.round(metrics.auc(fpr, tpr),2)\n",
    "f1_TR = np.round(metrics.f1_score(ytrain, ytrain_prd, average='micro'),2)\n",
    "\n",
    "print(f\"Sensitivity_TR = {Sensitivity_TR}\")\n",
    "print(f\"Specificity_TR = {Specificity_TR}\")\n",
    "print(f\"RMSE_TR        = {RMSE_TR}\")\n",
    "print(f\"AUC_TR         = {AUC_TR}\")\n",
    "print(f\"f1_score_TR    = {f1_TR}\")"
   ]
  },
  {
   "cell_type": "code",
   "execution_count": 25,
   "metadata": {
    "ExecuteTime": {
     "end_time": "2021-04-18T22:04:24.349549Z",
     "start_time": "2021-04-18T22:04:24.229542Z"
    }
   },
   "outputs": [],
   "source": [
    "######################## Export Text File of Train Results ########################\n",
    "print(\"*\"*25+\" Train Results \"+\"*\"*25, file=open('Results\\Train_Performance.txt', 'w'))\n",
    "\n",
    "print(f\"Accuracy_Train    = {Acc_TR}\", \\\n",
    "      file=open('Results\\Train_Performance.txt', 'a'))\n",
    "\n",
    "print(f\"Sensitivity_Train = {Sensitivity_TR}\", \\\n",
    "      file=open('Results\\Train_Performance.txt', 'a'))\n",
    "\n",
    "print(f\"Specificity_Train = {Specificity_TR}\", \\\n",
    "      file=open('Results\\Train_Performance.txt', 'a'))\n",
    "\n",
    "print(f\"RMSE_Train        = {RMSE_TR}\", \\\n",
    "      file=open('Results\\Train_Performance.txt', 'a'))\n",
    "\n",
    "print(f\"AUC_Train         = {AUC_TR}\", \\\n",
    "      file=open('Results\\Train_Performance.txt', 'a'))\n",
    "\n",
    "print(f\"f1_score_Train    = {f1_TR}\", \\\n",
    "      file=open('Results\\Train_Performance.txt', 'a'))"
   ]
  },
  {
   "cell_type": "markdown",
   "metadata": {},
   "source": [
    "## Test Results"
   ]
  },
  {
   "cell_type": "code",
   "execution_count": 26,
   "metadata": {
    "ExecuteTime": {
     "end_time": "2021-04-18T22:04:24.508558Z",
     "start_time": "2021-04-18T22:04:24.354549Z"
    }
   },
   "outputs": [],
   "source": [
    "ytest_prd = SVM_Classifier.predict(xtest)"
   ]
  },
  {
   "cell_type": "code",
   "execution_count": 27,
   "metadata": {
    "ExecuteTime": {
     "end_time": "2021-04-18T22:04:24.633565Z",
     "start_time": "2021-04-18T22:04:24.513558Z"
    }
   },
   "outputs": [
    {
     "data": {
      "text/plain": [
       "0.83"
      ]
     },
     "execution_count": 27,
     "metadata": {},
     "output_type": "execute_result"
    }
   ],
   "source": [
    "Acc_TS = np.round(acc(ytest, ytest_prd),2)\n",
    "Acc_TS"
   ]
  },
  {
   "cell_type": "code",
   "execution_count": 28,
   "metadata": {
    "ExecuteTime": {
     "end_time": "2021-04-18T22:04:24.752572Z",
     "start_time": "2021-04-18T22:04:24.638566Z"
    }
   },
   "outputs": [],
   "source": [
    "CM_TS = metrics.confusion_matrix(ytest, ytest_prd)"
   ]
  },
  {
   "cell_type": "code",
   "execution_count": 29,
   "metadata": {
    "ExecuteTime": {
     "end_time": "2021-04-18T22:04:25.635623Z",
     "start_time": "2021-04-18T22:04:24.757572Z"
    }
   },
   "outputs": [
    {
     "data": {
      "image/png": "[encoded data removed]",
      "text/plain": [
       "<Figure size 432x288 with 2 Axes>"
      ]
     },
     "metadata": {
      "needs_background": "light"
     },
     "output_type": "display_data"
    }
   ],
   "source": [
    "dfCM_TS = pd.DataFrame (CM_TS, index=['Patient', 'Healthy'], columns=['Patient', 'Healthy'])\n",
    "sn.heatmap(dfCM_TS, annot=True, cmap='Greens', fmt='g')\n",
    "plt.title(\"Test Confusion Matrix\", fontsize=16)\n",
    "plt.xlabel('Predicted', fontsize=16)\n",
    "plt.ylabel('Actual', fontsize=16)\n",
    "plt.savefig('Results\\Test_Confusion_Matrix',dpi=300)\n",
    "plt.show()"
   ]
  },
  {
   "cell_type": "code",
   "execution_count": 30,
   "metadata": {
    "ExecuteTime": {
     "end_time": "2021-04-18T22:04:25.670625Z",
     "start_time": "2021-04-18T22:04:25.639623Z"
    }
   },
   "outputs": [
    {
     "name": "stdout",
     "output_type": "stream",
     "text": [
      "\n",
      "************************* Test Results *************************\n",
      "Acc_TS         = 0.83\n",
      "Sensitivity_TS = 0.79\n",
      "Specificity_TS = 0.9\n",
      "RMSE_TS        = 0.41\n",
      "AUC_TS         = 0.84\n",
      "f1_score_TS    = 0.83\n"
     ]
    }
   ],
   "source": [
    "######################## Test Results ########################\n",
    "print(\"\\n\"+\"*\"*25+\" Test Results \"+\"*\"*25)\n",
    "\n",
    "print(f\"Acc_TS         = {Acc_TS}\")\n",
    "\n",
    "Sensitivity_TS = np.round(CM_TS[0,0]/np.sum(CM_TS[0,:]),2)\n",
    "Specificity_TS = np.round(CM_TS[1,1]/np.sum(CM_TS[1,:]),2)\n",
    "RMSE_TS = np.round(np.sqrt(metrics.mean_squared_error(ytest, ytest_prd)),2)\n",
    "fpr, tpr, thresholds = metrics.roc_curve(ytest, ytest_prd, pos_label=1)\n",
    "AUC_TS = np.round(metrics.auc(fpr, tpr),2)\n",
    "f1_TS = np.round(metrics.f1_score(ytest, ytest_prd, average='micro'),2)\n",
    "\n",
    "print(f\"Sensitivity_TS = {Sensitivity_TS}\")\n",
    "print(f\"Specificity_TS = {Specificity_TS}\")\n",
    "print(f\"RMSE_TS        = {RMSE_TS}\")\n",
    "print(f\"AUC_TS         = {AUC_TS}\")\n",
    "print(f\"f1_score_TS    = {f1_TS}\")"
   ]
  },
  {
   "cell_type": "code",
   "execution_count": 31,
   "metadata": {
    "ExecuteTime": {
     "end_time": "2021-04-18T22:04:25.824633Z",
     "start_time": "2021-04-18T22:04:25.675625Z"
    }
   },
   "outputs": [],
   "source": [
    "######################## Export Text File of Test Results ########################\n",
    "print(\"*\"*25+\" Test Results \"+\"*\"*25, file=open('Results\\Test_Performance.txt', 'w'))\n",
    "\n",
    "print(f\"Accuracy_Test    = {Acc_TS}\", \\\n",
    "      file=open('Results\\Test_Performance.txt', 'a'))\n",
    "\n",
    "print(f\"Sensitivity_Test = {Sensitivity_TS}\", \\\n",
    "      file=open('Results\\Test_Performance.txt', 'a'))\n",
    "\n",
    "print(f\"Specificity_Test = {Specificity_TS}\", \\\n",
    "      file=open('Results\\Test_Performance.txt', 'a'))\n",
    "\n",
    "print(f\"RMSE_Test        = {RMSE_TS}\", \\\n",
    "      file=open('Results\\Test_Performance.txt', 'a'))\n",
    "\n",
    "print(f\"AUC_Test         = {AUC_TS}\", \\\n",
    "      file=open('Results\\Test_Performance.txt', 'a'))\n",
    "\n",
    "print(f\"f1_score_Test    = {f1_TS}\", \\\n",
    "      file=open('Results\\Test_Performance.txt', 'a'))"
   ]
  },
  {
   "cell_type": "code",
   "execution_count": null,
   "metadata": {},
   "outputs": [],
   "source": []
  }
 ],
 "metadata": {
  "kernelspec": {
   "display_name": "Python 3",
   "language": "python",
   "name": "python3"
  },
  "language_info": {
   "codemirror_mode": {
    "name": "ipython",
    "version": 3
   },
   "file_extension": ".py",
   "mimetype": "text/x-python",
   "name": "python",
   "nbconvert_exporter": "python",
   "pygments_lexer": "ipython3",
   "version": "3.7.3"
  },
  "nbTranslate": {
   "displayLangs": [
    "*"
   ],
   "hotkey": "alt-t",
   "langInMainMenu": true,
   "sourceLang": "en",
   "targetLang": "fr",
   "useGoogleTranslate": true
  },
  "toc": {
   "base_numbering": 1,
   "nav_menu": {},
   "number_sections": true,
   "sideBar": true,
   "skip_h1_title": false,
   "title_cell": "Table of Contents",
   "title_sidebar": "Contents",
   "toc_cell": false,
   "toc_position": {},
   "toc_section_display": true,
   "toc_window_display": false
  },
  "varInspector": {
   "cols": {
    "lenName": 16,
    "lenType": 16,
    "lenVar": 40
   },
   "kernels_config": {
    "python": {
     "delete_cmd_postfix": "",
     "delete_cmd_prefix": "del ",
     "library": "var_list.py",
     "varRefreshCmd": "print(var_dic_list())"
    },
    "r": {
     "delete_cmd_postfix": ") ",
     "delete_cmd_prefix": "rm(",
     "library": "var_list.r",
     "varRefreshCmd": "cat(var_dic_list()) "
    }
   },
   "types_to_exclude": [
    "module",
    "function",
    "builtin_function_or_method",
    "instance",
    "_Feature"
   ],
   "window_display": false
  }
 },
 "nbformat": 4,
 "nbformat_minor": 2
}
